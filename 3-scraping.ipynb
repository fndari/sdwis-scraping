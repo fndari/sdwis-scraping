{
 "cells": [
  {
   "cell_type": "code",
   "execution_count": 1,
   "metadata": {},
   "outputs": [
    {
     "data": {
      "text/plain": [
       "PosixPath('data/intermediate-results/html-pages')"
      ]
     },
     "execution_count": 1,
     "metadata": {},
     "output_type": "execute_result"
    }
   ],
   "source": [
    "from pathlib import Path\n",
    "\n",
    "from config import PATH_HTML_PAGES\n",
    "PATH_HTML_PAGES"
   ]
  },
  {
   "cell_type": "code",
   "execution_count": 2,
   "metadata": {},
   "outputs": [
    {
     "data": {
      "text/plain": [
       "8327"
      ]
     },
     "execution_count": 2,
     "metadata": {},
     "output_type": "execute_result"
    }
   ],
   "source": [
    "PATHS_TO_SCRAPE = list(PATH_HTML_PAGES.glob('*.html'))\n",
    "len(PATHS_TO_SCRAPE)"
   ]
  },
  {
   "cell_type": "markdown",
   "metadata": {},
   "source": [
    "# Parsing the HTML pages\n",
    "\n",
    "## Utility classes\n",
    "\n",
    "First, some generic base classes:"
   ]
  },
  {
   "cell_type": "code",
   "execution_count": 3,
   "metadata": {},
   "outputs": [],
   "source": [
    "from requests_html import HTMLSession, HTML\n",
    "import pandas as pd"
   ]
  },
  {
   "cell_type": "code",
   "execution_count": 4,
   "metadata": {},
   "outputs": [],
   "source": [
    "class DocumentParser:\n",
    "    \"\"\"Helper class to process a single page/HTML document\"\"\"\n",
    "        \n",
    "    def __init__(self, html=None, **kwargs):\n",
    "        self.html = html\n",
    "        \n",
    "    def to_record(self):\n",
    "        return {}\n",
    "    \n",
    "    @staticmethod\n",
    "    def get_fallback_html():\n",
    "        return HTML(html='<body></body>')\n",
    "    \n",
    "    @classmethod\n",
    "    def from_url(cls, url, session=None, **kwargs):\n",
    "        session = session or HTMLSession()\n",
    "        \n",
    "        resp = session.get(url)\n",
    "        if resp:\n",
    "            if isinstance(session, HTMLSession):\n",
    "                html = resp.html\n",
    "            else:\n",
    "                html = HTML(url=url, html=resp.text)\n",
    "        else:\n",
    "            html = cls.get_fallback_html()\n",
    "\n",
    "        return cls(html=html, url=url, **kwargs)\n",
    "    \n",
    "    @classmethod\n",
    "    def from_path(cls, path, **kwargs):\n",
    "        html = HTML(html=Path(path).read_text())\n",
    "        return cls(html=html, **kwargs)\n",
    "    \n",
    "    def to_path(self, path):\n",
    "        path = Path(path)\n",
    "        path.save_text(self.html.html)\n",
    "        return path"
   ]
  },
  {
   "cell_type": "code",
   "execution_count": 5,
   "metadata": {},
   "outputs": [],
   "source": [
    "class ComponentParser:\n",
    "    \"\"\"Helper class for parsing a (generalized) single component\"\"\"\n",
    "    fallback = dict\n",
    "\n",
    "    def __init__(self, element=None, html_raw=None, process=None, **kwargs):\n",
    "\n",
    "        self.element = element\n",
    "        self.html_raw = html_raw or self.element.html\n",
    "        \n",
    "        self.data = self.fallback()\n",
    "        self.process = process or (lambda d: d)\n",
    "        \n",
    "        try:\n",
    "            data = self.parse(**kwargs)\n",
    "            data = self.process(data)\n",
    "            self.data = data\n",
    "        except Exception:\n",
    "            pass\n",
    "\n",
    "    def parse(self, **kwargs):\n",
    "        return self.data\n",
    "        \n",
    "    def to_record(self):\n",
    "        return dict(self.data)"
   ]
  },
  {
   "cell_type": "markdown",
   "metadata": {},
   "source": [
    "Let's extend these with more specific subclasses for parsing WSD pages and the tables that appear there:"
   ]
  },
  {
   "cell_type": "code",
   "execution_count": 6,
   "metadata": {},
   "outputs": [],
   "source": [
    "def extract_keyval_table(element, key_pattern=':', is_key=None, get_key=None):\n",
    "    is_key = is_key or (lambda text: key_pattern in text)\n",
    "    get_key = get_key or (lambda text: text.replace(key_pattern, ''))\n",
    "\n",
    "    keys = []\n",
    "    values = []\n",
    "    \n",
    "    for table_row in element.find('td'):\n",
    "        text = table_row.text\n",
    "        if is_key(text):\n",
    "            keys.append(get_key(text).strip())\n",
    "        else:\n",
    "            values.append(text.strip())\n",
    "    \n",
    "    return dict(zip(keys, values))\n",
    "\n",
    "class WSDetailsTable(ComponentParser):\n",
    "    \"\"\"Parses the table at the top op the page, which require a special treatment since it's not a well-formed HTML table\"\"\"\n",
    "    fallback = dict\n",
    "    \n",
    "    def parse(self):\n",
    "        return extract_keyval_table(self.element,\n",
    "                                    is_key=lambda text: text.endswith(' :'),\n",
    "                                    get_key=lambda text: text.replace(' :', '')\n",
    "                                   )\n",
    "    \n",
    "    def to_record(self):\n",
    "        return dict(self.data)\n",
    "\n",
    "class WSTable(ComponentParser):\n",
    "    fallback = pd.DataFrame\n",
    "    \n",
    "    def parse(self):\n",
    "        return pd.read_html(self.html_raw)[0]\n",
    "    \n",
    "    def to_record(self):\n",
    "\n",
    "        # return self.data.to_dict(orient='records')\n",
    "        # the DataFrame.to_dict(orient='records') mangles column names\n",
    "        # e.g. \"Type  Code\" (with two spaces) shows up as \"_1\"\n",
    "        # the same happens using df.itertuples()\n",
    "        # it might be a pandas bug\n",
    "        def to_dict_records_alt(d):\n",
    "            # transform nans to None for greater compatibility\n",
    "            # https://stackoverflow.com/a/39279898/\n",
    "            return [dict(row) for i, row in d.where(d.notnull(), None).iterrows()]\n",
    "        \n",
    "        return to_dict_records_alt(self.data)"
   ]
  },
  {
   "cell_type": "code",
   "execution_count": 7,
   "metadata": {},
   "outputs": [],
   "source": [
    "class PWSDetailsPage(DocumentParser):\n",
    "    \n",
    "    def __init__(self, url='', pws_id=None, **kwargs):\n",
    "        super().__init__(**kwargs)\n",
    "\n",
    "        self.url = url\n",
    "\n",
    "#         if self.url:\n",
    "#             self.parse_url(self.url)\n",
    "#         else:\n",
    "        self.pws_id = pws_id\n",
    "        \n",
    "    def parse_url(self, url):\n",
    "        params = get_params_from_url(url)\n",
    "        \n",
    "        self.pws_id = params.get('wsnumber', '')\n",
    "        self.pws_url_id = params.get('tinwsys_is_number', '')\n",
    "        \n",
    "    @property\n",
    "    def table_details(self):\n",
    "        sel = 'table[summary=\"Water System  Details\"]'\n",
    "        elem = self.html.find(sel, first=True)\n",
    "        return WSDetailsTable(elem)\n",
    "    \n",
    "    @property\n",
    "    def table_water_sources(self):\n",
    "        sel = 'table[summary=\"Details about Sources of Water\"]'\n",
    "        # there are two elements with identical attributes (elem.attrs):\n",
    "        # this (\"Sources of water\") is the first, \"Water Purchases\" is the second\n",
    "        elem = self.html.find(sel, first=True)\n",
    "\n",
    "        def rename_cols(d):\n",
    "            # get rid of extra space\n",
    "            return d.rename(columns={'Type  Code': 'Type Code'})\n",
    "\n",
    "        return WSTable(elem, process=rename_cols)\n",
    "    \n",
    "    @property\n",
    "    def table_water_purchases(self):\n",
    "        sel = 'table[summary=\"Details about Sources of Water\"]'\n",
    "        elem = self.html.find(sel)[1]\n",
    "        \n",
    "        return WSTable(elem)\n",
    "    \n",
    "    @property\n",
    "    def table_ws_contacts(self):\n",
    "        pass\n",
    "    \n",
    "    @property\n",
    "    def table_service_areas(self):\n",
    "        sel = 'table[summary=\"Summary of Service Area\"]'\n",
    "        return WSTable(self.html.find(sel, first=True))\n",
    "    \n",
    "    @property\n",
    "    def table_service_connections(self):\n",
    "        sel = 'table[summary=\"Summary of Service Connection\"]'\n",
    "        return WSTable(self.html.find(sel, first=True))\n",
    "    \n",
    "    @property\n",
    "    def urls_other(self):\n",
    "        def is_interesting(url):\n",
    "            # exclude:\n",
    "            return all([\n",
    "                # internal framework links\n",
    "                'jsp' not in url,\n",
    "                # google maps (might be useful for the address)\n",
    "                'maps.google' not in url,\n",
    "                # EAR links\n",
    "                'drinc.ca.gov/ear/' not in url\n",
    "            ])\n",
    "\n",
    "        return [url for url in self.html.links if is_interesting(url)]\n",
    "    \n",
    "    def to_record(self):\n",
    "        d = {'pws_id': self.pws_id}\n",
    "\n",
    "        d['water_system_details'] = self.table_details.to_record()\n",
    "\n",
    "        d['water_sources'] = self.table_water_sources.to_record()        \n",
    "        d['water_purchases'] = self.table_water_purchases.to_record()\n",
    "        d['service_areas'] = self.table_service_areas.to_record()\n",
    "        d['service_connections'] = self.table_service_connections.to_record()\n",
    "        \n",
    "        d['urls_other'] = self.urls_other\n",
    "        \n",
    "        return d"
   ]
  },
  {
   "cell_type": "code",
   "execution_count": 8,
   "metadata": {},
   "outputs": [],
   "source": [
    "def get_example_parsers():\n",
    "    return [\n",
    "        PWSDetailsPage.from_path(PATH_HTML_PAGES / 'CA0400103.html', pws_id='CA0400103'),\n",
    "        PWSDetailsPage.from_path(PATH_HTML_PAGES / 'CA1310011.html', pws_id='CA1310011'),\n",
    "    ]"
   ]
  },
  {
   "cell_type": "code",
   "execution_count": 9,
   "metadata": {},
   "outputs": [
    {
     "data": {
      "text/plain": [
       "{'Water System No.': 'CA0400103',\n",
       " 'Federal Type': 'NC',\n",
       " 'Water System Name': 'PG&E: PHILBROOK DAM',\n",
       " 'State Type': 'NC',\n",
       " 'Principal County Served': 'BUTTE',\n",
       " 'Primary Source': 'GW',\n",
       " 'Status': 'A',\n",
       " 'Activity Date': '07-28-2016'}"
      ]
     },
     "execution_count": 9,
     "metadata": {},
     "output_type": "execute_result"
    }
   ],
   "source": [
    "parsers = get_example_parsers()\n",
    "\n",
    "parsers[0].table_details.data"
   ]
  },
  {
   "cell_type": "code",
   "execution_count": 10,
   "metadata": {},
   "outputs": [],
   "source": [
    "from tqdm import tqdm_notebook\n",
    "\n",
    "def get_records_from_paths(paths, **kwargs):\n",
    "    records = []\n",
    "    for path in tqdm_notebook(paths):\n",
    "        try:\n",
    "            parser = PWSDetailsPage.from_path(path, pws_id=path.stem)\n",
    "        except Exception as e:\n",
    "            print(f'could not process {path}: {repr(e)}')\n",
    "        else:\n",
    "            records.append(parser.to_record())\n",
    "    return records"
   ]
  },
  {
   "cell_type": "code",
   "execution_count": 11,
   "metadata": {},
   "outputs": [
    {
     "data": {
      "application/vnd.jupyter.widget-view+json": {
       "model_id": "e80b741774174353a5fd2c411693f3ba",
       "version_major": 2,
       "version_minor": 0
      },
      "text/plain": [
       "HBox(children=(IntProgress(value=0, max=8327), HTML(value='')))"
      ]
     },
     "metadata": {},
     "output_type": "display_data"
    },
    {
     "name": "stdout",
     "output_type": "stream",
     "text": [
      "\n"
     ]
    },
    {
     "data": {
      "text/plain": [
       "8327"
      ]
     },
     "execution_count": 11,
     "metadata": {},
     "output_type": "execute_result"
    }
   ],
   "source": [
    "RECORDS = get_records_from_paths(PATHS_TO_SCRAPE)\n",
    "len(RECORDS)"
   ]
  },
  {
   "cell_type": "code",
   "execution_count": 12,
   "metadata": {},
   "outputs": [],
   "source": [
    "import json\n",
    "\n",
    "def to_file(records, path):\n",
    "    with (path).with_suffix('.json').open('w') as f:\n",
    "        json.dump(records, f, indent=4)"
   ]
  },
  {
   "cell_type": "code",
   "execution_count": 13,
   "metadata": {},
   "outputs": [
    {
     "data": {
      "text/plain": [
       "PosixPath('data/intermediate-results/parsed-records.json')"
      ]
     },
     "execution_count": 13,
     "metadata": {},
     "output_type": "execute_result"
    }
   ],
   "source": [
    "from config import PATH_PARSED_RECORDS\n",
    "PATH_PARSED_RECORDS"
   ]
  },
  {
   "cell_type": "code",
   "execution_count": 14,
   "metadata": {},
   "outputs": [],
   "source": [
    "to_file(RECORDS, PATH_PARSED_RECORDS)"
   ]
  }
 ],
 "metadata": {
  "kernelspec": {
   "display_name": "sdwis-scraping",
   "language": "python",
   "name": "sdwis-scraping"
  },
  "language_info": {
   "codemirror_mode": {
    "name": "ipython",
    "version": 3
   },
   "file_extension": ".py",
   "mimetype": "text/x-python",
   "name": "python",
   "nbconvert_exporter": "python",
   "pygments_lexer": "ipython3",
   "version": "3.7.2"
  }
 },
 "nbformat": 4,
 "nbformat_minor": 2
}
