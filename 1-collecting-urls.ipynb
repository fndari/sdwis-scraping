{
 "cells": [
  {
   "cell_type": "markdown",
   "metadata": {},
   "source": [
    "# Scraping SDWIS: Part 1\n",
    "\n",
    "I'm focusing on the \"Water System Details\" (WSD) endpoint, at the URL <https://sdwis.waterboards.ca.gov/PDWW/JSP/WaterSystemDetail.jsp>\n",
    "\n",
    "## Preliminary information\n",
    "\n",
    "- JSP stands for [JavaServer Pages](https://en.wikipedia.org/wiki/JavaServer_Pages)\n",
    "    - This is a backend software that interacts with a database and renders complete HTML documents server-side to be delivered to the client (the user's browser)\n",
    "    - This means that it's not possible to analyze and intercept the client's requests to the backend to obtain the \"raw\" data, but instead we have to scrape the rendered HTML documents\n",
    "\n",
    "## Getting the URLs\n",
    "\n",
    "The first step to scrape the dataset is to obtain a list of URLs corresponding to each WSD page.  \n",
    "\n",
    "An example URL is <https://sdwis.waterboards.ca.gov/PDWW/JSP/WaterSystemDetail.jsp?tinwsys_is_number=13798&tinwsys_st_code=CA>.\n",
    "\n",
    "The primary URL parameter is `tinwsys_is_number`, which seems to be an internal database ID/primary key, and unfortunately looks like it's not related (at least, not obviously) to the PWSID. `tinwsys_is_number` look like an integer, so one possible choice at this point would be to assume that it's progressive, generate a sequence of integers to try, and query the server with the generated URLs, parsing the pages that we happen to guess correctly and ignore the rest.\n",
    "\n",
    "Fortunately there's a better way, thanks to the Water System Search <https://sdwis.waterboards.ca.gov/PDWW/index.jsp> endpoint. By submitting a blank search form ([search URL](https://sdwis.waterboards.ca.gov/PDWW/JSP/SearchDispatch?number=&name=&county=&WaterSystemType=All&WaterSystemStatus=A&SourceWaterType=All&action=Search+For+Water+Systems)), we obtain a list of all 8329 PWSs in the form of a JQuery table; crucially, the \"Water System No.\" column is a hyperlink containing the URL to the corrisponding WSD page.\n",
    "\n",
    "It's in principle possible to extract the information from the table programmatically; however, since this is a one-time operation, I opted to:\n",
    "- Manually select the \"Display [All] records\"; this will render the table as HTML in the browser\n",
    "- Dowload the resulting page locally as a HTML text file\n",
    "- Parse the HTML to extract the links\n",
    "\n",
    "For this operation as well as for the parsing of WSD pages I'll use the `requests_html` library."
   ]
  },
  {
   "cell_type": "code",
   "execution_count": 1,
   "metadata": {},
   "outputs": [],
   "source": [
    "from requests_html import HTML\n",
    "\n",
    "import pandas as pd\n",
    "\n",
    "from config import PATH_HTML_URLS"
   ]
  },
  {
   "cell_type": "code",
   "execution_count": 2,
   "metadata": {},
   "outputs": [],
   "source": [
    "def get_urls_from_html_table(html_text, url_pattern='WaterSystemDetail.jsp'):\n",
    "    doc = HTML(html=html_text)\n",
    "    \n",
    "    return [url for url in doc.links if url_pattern in url]"
   ]
  },
  {
   "cell_type": "code",
   "execution_count": 3,
   "metadata": {},
   "outputs": [
    {
     "data": {
      "text/plain": [
       "8328"
      ]
     },
     "execution_count": 3,
     "metadata": {},
     "output_type": "execute_result"
    }
   ],
   "source": [
    "URLS = get_urls_from_html_table(PATH_HTML_URLS.read_text())\n",
    "len(URLS)"
   ]
  },
  {
   "cell_type": "code",
   "execution_count": 4,
   "metadata": {},
   "outputs": [
    {
     "data": {
      "text/plain": [
       "['https://sdwis.waterboards.ca.gov/PDWW/JSP/WaterSystemDetail.jsp?tinwsys_is_number=4168&tinwsys_st_code=CA&wsnumber=CA4210022',\n",
       " 'https://sdwis.waterboards.ca.gov/PDWW/JSP/WaterSystemDetail.jsp?tinwsys_is_number=5591&tinwsys_st_code=CA&wsnumber=CA5090901',\n",
       " 'https://sdwis.waterboards.ca.gov/PDWW/JSP/WaterSystemDetail.jsp?tinwsys_is_number=13399&tinwsys_st_code=CA&wsnumber=CA0900615',\n",
       " 'https://sdwis.waterboards.ca.gov/PDWW/JSP/WaterSystemDetail.jsp?tinwsys_is_number=14601&tinwsys_st_code=CA&wsnumber=CA1100101',\n",
       " 'https://sdwis.waterboards.ca.gov/PDWW/JSP/WaterSystemDetail.jsp?tinwsys_is_number=13471&tinwsys_st_code=CA&wsnumber=CA2701474',\n",
       " 'https://sdwis.waterboards.ca.gov/PDWW/JSP/WaterSystemDetail.jsp?tinwsys_is_number=4426&tinwsys_st_code=CA&wsnumber=CA4510007',\n",
       " 'https://sdwis.waterboards.ca.gov/PDWW/JSP/WaterSystemDetail.jsp?tinwsys_is_number=2230&tinwsys_st_code=CA&wsnumber=CA1900146',\n",
       " 'https://sdwis.waterboards.ca.gov/PDWW/JSP/WaterSystemDetail.jsp?tinwsys_is_number=189&tinwsys_st_code=CA&wsnumber=CA0707574',\n",
       " 'https://sdwis.waterboards.ca.gov/PDWW/JSP/WaterSystemDetail.jsp?tinwsys_is_number=3358&tinwsys_st_code=CA&wsnumber=CA3010008',\n",
       " 'https://sdwis.waterboards.ca.gov/PDWW/JSP/WaterSystemDetail.jsp?tinwsys_is_number=14561&tinwsys_st_code=CA&wsnumber=CA1300677']"
      ]
     },
     "execution_count": 4,
     "metadata": {},
     "output_type": "execute_result"
    }
   ],
   "source": [
    "URLS[:10]"
   ]
  },
  {
   "cell_type": "markdown",
   "metadata": {},
   "source": [
    "Let's save this information in a table so that it's easily available.\n",
    "\n",
    "To do so, it's useful to extract the values of the query parameters from the URL."
   ]
  },
  {
   "cell_type": "code",
   "execution_count": 5,
   "metadata": {},
   "outputs": [],
   "source": [
    "from urllib.parse import urlparse, parse_qs"
   ]
  },
  {
   "cell_type": "code",
   "execution_count": 6,
   "metadata": {},
   "outputs": [],
   "source": [
    "def get_params_from_url(url):\n",
    "    parsed = urlparse(url)\n",
    "    params = parse_qs(parsed.query)\n",
    "    # each value of params is a 1-element list, so we take the first element\n",
    "    return {key: val[0] for key, val in params.items()}"
   ]
  },
  {
   "cell_type": "code",
   "execution_count": 7,
   "metadata": {},
   "outputs": [
    {
     "data": {
      "text/html": [
       "<div>\n",
       "<style scoped>\n",
       "    .dataframe tbody tr th:only-of-type {\n",
       "        vertical-align: middle;\n",
       "    }\n",
       "\n",
       "    .dataframe tbody tr th {\n",
       "        vertical-align: top;\n",
       "    }\n",
       "\n",
       "    .dataframe thead th {\n",
       "        text-align: right;\n",
       "    }\n",
       "</style>\n",
       "<table border=\"1\" class=\"dataframe\">\n",
       "  <thead>\n",
       "    <tr style=\"text-align: right;\">\n",
       "      <th></th>\n",
       "      <th>pws_url_id</th>\n",
       "      <th>url</th>\n",
       "    </tr>\n",
       "    <tr>\n",
       "      <th>pws_id</th>\n",
       "      <th></th>\n",
       "      <th></th>\n",
       "    </tr>\n",
       "  </thead>\n",
       "  <tbody>\n",
       "    <tr>\n",
       "      <th>CA0103040</th>\n",
       "      <td>3</td>\n",
       "      <td>https://sdwis.waterboards.ca.gov/PDWW/JSP/Wate...</td>\n",
       "    </tr>\n",
       "    <tr>\n",
       "      <th>CA0103041</th>\n",
       "      <td>4</td>\n",
       "      <td>https://sdwis.waterboards.ca.gov/PDWW/JSP/Wate...</td>\n",
       "    </tr>\n",
       "    <tr>\n",
       "      <th>CA0105002</th>\n",
       "      <td>15</td>\n",
       "      <td>https://sdwis.waterboards.ca.gov/PDWW/JSP/Wate...</td>\n",
       "    </tr>\n",
       "    <tr>\n",
       "      <th>CA0105003</th>\n",
       "      <td>16</td>\n",
       "      <td>https://sdwis.waterboards.ca.gov/PDWW/JSP/Wate...</td>\n",
       "    </tr>\n",
       "    <tr>\n",
       "      <th>CA0105008</th>\n",
       "      <td>18</td>\n",
       "      <td>https://sdwis.waterboards.ca.gov/PDWW/JSP/Wate...</td>\n",
       "    </tr>\n",
       "    <tr>\n",
       "      <th>CA0105009</th>\n",
       "      <td>19</td>\n",
       "      <td>https://sdwis.waterboards.ca.gov/PDWW/JSP/Wate...</td>\n",
       "    </tr>\n",
       "    <tr>\n",
       "      <th>CA0105010</th>\n",
       "      <td>20</td>\n",
       "      <td>https://sdwis.waterboards.ca.gov/PDWW/JSP/Wate...</td>\n",
       "    </tr>\n",
       "    <tr>\n",
       "      <th>CA0105012</th>\n",
       "      <td>22</td>\n",
       "      <td>https://sdwis.waterboards.ca.gov/PDWW/JSP/Wate...</td>\n",
       "    </tr>\n",
       "    <tr>\n",
       "      <th>CA0105013</th>\n",
       "      <td>23</td>\n",
       "      <td>https://sdwis.waterboards.ca.gov/PDWW/JSP/Wate...</td>\n",
       "    </tr>\n",
       "    <tr>\n",
       "      <th>CA0105016</th>\n",
       "      <td>26</td>\n",
       "      <td>https://sdwis.waterboards.ca.gov/PDWW/JSP/Wate...</td>\n",
       "    </tr>\n",
       "    <tr>\n",
       "      <th>CA0105017</th>\n",
       "      <td>14689</td>\n",
       "      <td>https://sdwis.waterboards.ca.gov/PDWW/JSP/Wate...</td>\n",
       "    </tr>\n",
       "    <tr>\n",
       "      <th>CA0105018</th>\n",
       "      <td>14734</td>\n",
       "      <td>https://sdwis.waterboards.ca.gov/PDWW/JSP/Wate...</td>\n",
       "    </tr>\n",
       "    <tr>\n",
       "      <th>CA0105019</th>\n",
       "      <td>14943</td>\n",
       "      <td>https://sdwis.waterboards.ca.gov/PDWW/JSP/Wate...</td>\n",
       "    </tr>\n",
       "    <tr>\n",
       "      <th>CA0105020</th>\n",
       "      <td>27</td>\n",
       "      <td>https://sdwis.waterboards.ca.gov/PDWW/JSP/Wate...</td>\n",
       "    </tr>\n",
       "    <tr>\n",
       "      <th>CA0110001</th>\n",
       "      <td>29</td>\n",
       "      <td>https://sdwis.waterboards.ca.gov/PDWW/JSP/Wate...</td>\n",
       "    </tr>\n",
       "    <tr>\n",
       "      <th>CA0110003</th>\n",
       "      <td>30</td>\n",
       "      <td>https://sdwis.waterboards.ca.gov/PDWW/JSP/Wate...</td>\n",
       "    </tr>\n",
       "    <tr>\n",
       "      <th>CA0110005</th>\n",
       "      <td>31</td>\n",
       "      <td>https://sdwis.waterboards.ca.gov/PDWW/JSP/Wate...</td>\n",
       "    </tr>\n",
       "    <tr>\n",
       "      <th>CA0110006</th>\n",
       "      <td>32</td>\n",
       "      <td>https://sdwis.waterboards.ca.gov/PDWW/JSP/Wate...</td>\n",
       "    </tr>\n",
       "    <tr>\n",
       "      <th>CA0110008</th>\n",
       "      <td>33</td>\n",
       "      <td>https://sdwis.waterboards.ca.gov/PDWW/JSP/Wate...</td>\n",
       "    </tr>\n",
       "    <tr>\n",
       "      <th>CA0110009</th>\n",
       "      <td>34</td>\n",
       "      <td>https://sdwis.waterboards.ca.gov/PDWW/JSP/Wate...</td>\n",
       "    </tr>\n",
       "  </tbody>\n",
       "</table>\n",
       "</div>"
      ],
      "text/plain": [
       "          pws_url_id                                                url\n",
       "pws_id                                                                 \n",
       "CA0103040          3  https://sdwis.waterboards.ca.gov/PDWW/JSP/Wate...\n",
       "CA0103041          4  https://sdwis.waterboards.ca.gov/PDWW/JSP/Wate...\n",
       "CA0105002         15  https://sdwis.waterboards.ca.gov/PDWW/JSP/Wate...\n",
       "CA0105003         16  https://sdwis.waterboards.ca.gov/PDWW/JSP/Wate...\n",
       "CA0105008         18  https://sdwis.waterboards.ca.gov/PDWW/JSP/Wate...\n",
       "CA0105009         19  https://sdwis.waterboards.ca.gov/PDWW/JSP/Wate...\n",
       "CA0105010         20  https://sdwis.waterboards.ca.gov/PDWW/JSP/Wate...\n",
       "CA0105012         22  https://sdwis.waterboards.ca.gov/PDWW/JSP/Wate...\n",
       "CA0105013         23  https://sdwis.waterboards.ca.gov/PDWW/JSP/Wate...\n",
       "CA0105016         26  https://sdwis.waterboards.ca.gov/PDWW/JSP/Wate...\n",
       "CA0105017      14689  https://sdwis.waterboards.ca.gov/PDWW/JSP/Wate...\n",
       "CA0105018      14734  https://sdwis.waterboards.ca.gov/PDWW/JSP/Wate...\n",
       "CA0105019      14943  https://sdwis.waterboards.ca.gov/PDWW/JSP/Wate...\n",
       "CA0105020         27  https://sdwis.waterboards.ca.gov/PDWW/JSP/Wate...\n",
       "CA0110001         29  https://sdwis.waterboards.ca.gov/PDWW/JSP/Wate...\n",
       "CA0110003         30  https://sdwis.waterboards.ca.gov/PDWW/JSP/Wate...\n",
       "CA0110005         31  https://sdwis.waterboards.ca.gov/PDWW/JSP/Wate...\n",
       "CA0110006         32  https://sdwis.waterboards.ca.gov/PDWW/JSP/Wate...\n",
       "CA0110008         33  https://sdwis.waterboards.ca.gov/PDWW/JSP/Wate...\n",
       "CA0110009         34  https://sdwis.waterboards.ca.gov/PDWW/JSP/Wate..."
      ]
     },
     "execution_count": 7,
     "metadata": {},
     "output_type": "execute_result"
    }
   ],
   "source": [
    "df_urls = (\n",
    "    pd.DataFrame([dict(url=url, **get_params_from_url(url)) for url in URLS])\n",
    "    .rename(columns={'tinwsys_is_number': 'pws_url_id', 'wsnumber': 'pws_id'})\n",
    "    [['pws_id', 'pws_url_id', 'url']]\n",
    "    .set_index('pws_id')\n",
    "    .sort_index()\n",
    ")\n",
    "df_urls.head(20)"
   ]
  },
  {
   "cell_type": "code",
   "execution_count": 8,
   "metadata": {},
   "outputs": [
    {
     "data": {
      "text/plain": [
       "PosixPath('data-out/wsd-urls.csv')"
      ]
     },
     "execution_count": 8,
     "metadata": {},
     "output_type": "execute_result"
    }
   ],
   "source": [
    "from config import PATH_URLS\n",
    "PATH_URLS"
   ]
  },
  {
   "cell_type": "code",
   "execution_count": 9,
   "metadata": {},
   "outputs": [],
   "source": [
    "df_urls.to_csv(PATH_URLS)"
   ]
  }
 ],
 "metadata": {
  "kernelspec": {
   "display_name": "sdwis-scraping",
   "language": "python",
   "name": "sdwis-scraping"
  },
  "language_info": {
   "codemirror_mode": {
    "name": "ipython",
    "version": 3
   },
   "file_extension": ".py",
   "mimetype": "text/x-python",
   "name": "python",
   "nbconvert_exporter": "python",
   "pygments_lexer": "ipython3",
   "version": "3.7.2"
  }
 },
 "nbformat": 4,
 "nbformat_minor": 2
}
