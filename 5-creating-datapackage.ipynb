{
 "cells": [
  {
   "cell_type": "markdown",
   "metadata": {},
   "source": [
    "# Creating Datapackage to store the processed tables\n",
    "\n",
    "The [Datapackage standard](https://frictionlessdata.io/specs/data-package/) is a minimal yet effective way to enrich CSV files when storing or distributing datasets.\n",
    "\n",
    "Refer to e.g. <https://frictionlessdata.io/field-guide/> for more information about the specification, workflows, and ecosystem of existing tools."
   ]
  },
  {
   "cell_type": "code",
   "execution_count": 1,
   "metadata": {},
   "outputs": [],
   "source": [
    "from datapackage import Package\n",
    "from config import PATH_RESULTS"
   ]
  },
  {
   "cell_type": "code",
   "execution_count": 2,
   "metadata": {},
   "outputs": [],
   "source": [
    "p = Package(base_path=str(PATH_RESULTS))"
   ]
  },
  {
   "cell_type": "code",
   "execution_count": 3,
   "metadata": {},
   "outputs": [
    {
     "data": {
      "text/plain": [
       "{'profile': 'data-package'}"
      ]
     },
     "execution_count": 3,
     "metadata": {},
     "output_type": "execute_result"
    }
   ],
   "source": [
    "p.descriptor"
   ]
  },
  {
   "cell_type": "markdown",
   "metadata": {},
   "source": [
    "Additional (but necesary) package metadata is stored in a separate file. We add it to the Package object at this stage."
   ]
  },
  {
   "cell_type": "code",
   "execution_count": 4,
   "metadata": {},
   "outputs": [
    {
     "data": {
      "text/plain": [
       "{'name': 'sdwis-wsd',\n",
       " 'title': 'Data from the Water System Detail endpoint of the SDWIS portal of the California Water Boards',\n",
       " 'description': 'The data was parsed (scraped) from the rendered HTML pages of the portal and converted to flat (CSV) tables after minimal processing.',\n",
       " 'sources': [{'title': 'Water System Detail endpoint of the SDWIS portal of the CA Water Boards',\n",
       "   'path': 'https://sdwis.waterboards.ca.gov/PDWW/JSP/WaterSystemDetail.jsp'},\n",
       "  {'title': 'Water System Search endpoint of the SDWIS portal of the CA Water Boards',\n",
       "   'path': 'https://sdwis.waterboards.ca.gov/PDWW/index.jsp'},\n",
       "  {'title': 'Code and input data used to fetch, parse and process the data in the form of Jupyter notebooks (Python)',\n",
       "   'path': 'https://github.com/waterdatacollaborative'}],\n",
       " 'contributors': [{'title': 'Ludovico Bianchi',\n",
       "   'email': 'me@ludob.com',\n",
       "   'role': 'author',\n",
       "   'organization': 'Berkeley Water Data Collaborative'},\n",
       "  {'title': 'Greg Gearhart',\n",
       "   'email': 'Greg.Gearhart@waterboards.ca.gov',\n",
       "   'role': 'maintainer',\n",
       "   'organization': 'California Water Boards'}],\n",
       " 'version': '0.1.0',\n",
       " 'created': '2019-02-22T20:23:51'}"
      ]
     },
     "execution_count": 4,
     "metadata": {},
     "output_type": "execute_result"
    }
   ],
   "source": [
    "import yaml\n",
    "import datetime\n",
    "from config import PATH_DATAPACKAGE, PATH_DATAPACKAGE_METADATA\n",
    "\n",
    "METADATA = yaml.load(PATH_DATAPACKAGE_METADATA.read_text())\n",
    "METADATA.update(\n",
    "    {'created': datetime.datetime.now().isoformat(timespec='seconds')}\n",
    ")\n",
    "\n",
    "METADATA"
   ]
  },
  {
   "cell_type": "code",
   "execution_count": 5,
   "metadata": {},
   "outputs": [],
   "source": [
    "p.descriptor.update(METADATA)"
   ]
  },
  {
   "cell_type": "code",
   "execution_count": 6,
   "metadata": {},
   "outputs": [
    {
     "data": {
      "text/plain": [
       "True"
      ]
     },
     "execution_count": 6,
     "metadata": {},
     "output_type": "execute_result"
    }
   ],
   "source": [
    "p.commit()"
   ]
  },
  {
   "cell_type": "markdown",
   "metadata": {},
   "source": [
    "Automatically infer table properties from the output CSV files"
   ]
  },
  {
   "cell_type": "code",
   "execution_count": 7,
   "metadata": {},
   "outputs": [
    {
     "data": {
      "text/plain": [
       "{'profile': 'tabular-data-package',\n",
       " 'name': 'sdwis-wsd',\n",
       " 'title': 'Data from the Water System Detail endpoint of the SDWIS portal of the California Water Boards',\n",
       " 'description': 'The data was parsed (scraped) from the rendered HTML pages of the portal and converted to flat (CSV) tables after minimal processing.',\n",
       " 'sources': [{'title': 'Water System Detail endpoint of the SDWIS portal of the CA Water Boards',\n",
       "   'path': 'https://sdwis.waterboards.ca.gov/PDWW/JSP/WaterSystemDetail.jsp'},\n",
       "  {'title': 'Water System Search endpoint of the SDWIS portal of the CA Water Boards',\n",
       "   'path': 'https://sdwis.waterboards.ca.gov/PDWW/index.jsp'},\n",
       "  {'title': 'Code and input data used to fetch, parse and process the data in the form of Jupyter notebooks (Python)',\n",
       "   'path': 'https://github.com/waterdatacollaborative'}],\n",
       " 'contributors': [{'title': 'Ludovico Bianchi',\n",
       "   'email': 'me@ludob.com',\n",
       "   'role': 'author',\n",
       "   'organization': 'Berkeley Water Data Collaborative'},\n",
       "  {'title': 'Greg Gearhart',\n",
       "   'email': 'Greg.Gearhart@waterboards.ca.gov',\n",
       "   'role': 'maintainer',\n",
       "   'organization': 'California Water Boards'}],\n",
       " 'version': '0.1.0',\n",
       " 'created': '2019-02-22T20:23:51',\n",
       " 'resources': [{'path': 'service-connections.csv',\n",
       "   'profile': 'tabular-data-resource',\n",
       "   'name': 'service-connections',\n",
       "   'format': 'csv',\n",
       "   'mediatype': 'text/csv',\n",
       "   'encoding': 'utf-8',\n",
       "   'schema': {'fields': [{'name': 'pws_id',\n",
       "      'type': 'string',\n",
       "      'format': 'default'},\n",
       "     {'name': 'entry_id', 'type': 'integer', 'format': 'default'},\n",
       "     {'name': 'count', 'type': 'integer', 'format': 'default'},\n",
       "     {'name': 'meter_size_measure', 'type': 'integer', 'format': 'default'},\n",
       "     {'name': 'meter_type', 'type': 'string', 'format': 'default'},\n",
       "     {'name': 'type', 'type': 'string', 'format': 'default'}],\n",
       "    'missingValues': ['']}},\n",
       "  {'path': 'water-purchases.csv',\n",
       "   'profile': 'tabular-data-resource',\n",
       "   'name': 'water-purchases',\n",
       "   'format': 'csv',\n",
       "   'mediatype': 'text/csv',\n",
       "   'encoding': 'utf-8',\n",
       "   'schema': {'fields': [{'name': 'pws_id',\n",
       "      'type': 'string',\n",
       "      'format': 'default'},\n",
       "     {'name': 'entry_id', 'type': 'integer', 'format': 'default'},\n",
       "     {'name': 'buyer_state_asgn_id_no', 'type': 'number', 'format': 'default'},\n",
       "     {'name': 'buyer_facility_type', 'type': 'string', 'format': 'default'},\n",
       "     {'name': 'seller_facility_type', 'type': 'string', 'format': 'default'},\n",
       "     {'name': 'seller_state_asgn_id_no',\n",
       "      'type': 'string',\n",
       "      'format': 'default'},\n",
       "     {'name': 'seller_water_system_no', 'type': 'string', 'format': 'default'},\n",
       "     {'name': 'water_system_name', 'type': 'string', 'format': 'default'}],\n",
       "    'missingValues': ['']}},\n",
       "  {'path': 'details.csv',\n",
       "   'profile': 'tabular-data-resource',\n",
       "   'name': 'details',\n",
       "   'format': 'csv',\n",
       "   'mediatype': 'text/csv',\n",
       "   'encoding': 'utf-8',\n",
       "   'schema': {'fields': [{'name': 'pws_id',\n",
       "      'type': 'string',\n",
       "      'format': 'default'},\n",
       "     {'name': 'activity_date', 'type': 'date', 'format': 'default'},\n",
       "     {'name': 'federal_type', 'type': 'string', 'format': 'default'},\n",
       "     {'name': 'primary_source', 'type': 'string', 'format': 'default'},\n",
       "     {'name': 'principal_county_served',\n",
       "      'type': 'string',\n",
       "      'format': 'default'},\n",
       "     {'name': 'state_type', 'type': 'string', 'format': 'default'},\n",
       "     {'name': 'status', 'type': 'string', 'format': 'default'},\n",
       "     {'name': 'water_system_name', 'type': 'string', 'format': 'default'},\n",
       "     {'name': 'water_system_no', 'type': 'string', 'format': 'default'}],\n",
       "    'missingValues': ['']}},\n",
       "  {'path': 'service-areas.csv',\n",
       "   'profile': 'tabular-data-resource',\n",
       "   'name': 'service-areas',\n",
       "   'format': 'csv',\n",
       "   'mediatype': 'text/csv',\n",
       "   'encoding': 'utf-8',\n",
       "   'schema': {'fields': [{'name': 'pws_id',\n",
       "      'type': 'string',\n",
       "      'format': 'default'},\n",
       "     {'name': 'entry_id', 'type': 'integer', 'format': 'default'},\n",
       "     {'name': 'code', 'type': 'string', 'format': 'default'},\n",
       "     {'name': 'name', 'type': 'string', 'format': 'default'}],\n",
       "    'missingValues': ['']}},\n",
       "  {'path': 'water-sources.csv',\n",
       "   'profile': 'tabular-data-resource',\n",
       "   'name': 'water-sources',\n",
       "   'format': 'csv',\n",
       "   'mediatype': 'text/csv',\n",
       "   'encoding': 'utf-8',\n",
       "   'schema': {'fields': [{'name': 'pws_id',\n",
       "      'type': 'string',\n",
       "      'format': 'default'},\n",
       "     {'name': 'entry_id', 'type': 'integer', 'format': 'default'},\n",
       "     {'name': 'name', 'type': 'string', 'format': 'default'},\n",
       "     {'name': 'status', 'type': 'string', 'format': 'default'},\n",
       "     {'name': 'type_code', 'type': 'string', 'format': 'default'}],\n",
       "    'missingValues': ['']}}]}"
      ]
     },
     "execution_count": 7,
     "metadata": {},
     "output_type": "execute_result"
    }
   ],
   "source": [
    "p.infer('*.csv')"
   ]
  },
  {
   "cell_type": "code",
   "execution_count": 8,
   "metadata": {},
   "outputs": [
    {
     "data": {
      "text/plain": [
       "{'profile': 'tabular-data-package',\n",
       " 'name': 'sdwis-wsd',\n",
       " 'title': 'Data from the Water System Detail endpoint of the SDWIS portal of the California Water Boards',\n",
       " 'description': 'The data was parsed (scraped) from the rendered HTML pages of the portal and converted to flat (CSV) tables after minimal processing.',\n",
       " 'sources': [{'title': 'Water System Detail endpoint of the SDWIS portal of the CA Water Boards',\n",
       "   'path': 'https://sdwis.waterboards.ca.gov/PDWW/JSP/WaterSystemDetail.jsp'},\n",
       "  {'title': 'Water System Search endpoint of the SDWIS portal of the CA Water Boards',\n",
       "   'path': 'https://sdwis.waterboards.ca.gov/PDWW/index.jsp'},\n",
       "  {'title': 'Code and input data used to fetch, parse and process the data in the form of Jupyter notebooks (Python)',\n",
       "   'path': 'https://github.com/waterdatacollaborative'}],\n",
       " 'contributors': [{'title': 'Ludovico Bianchi',\n",
       "   'email': 'me@ludob.com',\n",
       "   'role': 'author',\n",
       "   'organization': 'Berkeley Water Data Collaborative'},\n",
       "  {'title': 'Greg Gearhart',\n",
       "   'email': 'Greg.Gearhart@waterboards.ca.gov',\n",
       "   'role': 'maintainer',\n",
       "   'organization': 'California Water Boards'}],\n",
       " 'version': '0.1.0',\n",
       " 'created': '2019-02-22T20:23:51',\n",
       " 'resources': [{'path': 'service-connections.csv',\n",
       "   'profile': 'tabular-data-resource',\n",
       "   'name': 'service-connections',\n",
       "   'format': 'csv',\n",
       "   'mediatype': 'text/csv',\n",
       "   'encoding': 'utf-8',\n",
       "   'schema': {'fields': [{'name': 'pws_id',\n",
       "      'type': 'string',\n",
       "      'format': 'default'},\n",
       "     {'name': 'entry_id', 'type': 'integer', 'format': 'default'},\n",
       "     {'name': 'count', 'type': 'integer', 'format': 'default'},\n",
       "     {'name': 'meter_size_measure', 'type': 'integer', 'format': 'default'},\n",
       "     {'name': 'meter_type', 'type': 'string', 'format': 'default'},\n",
       "     {'name': 'type', 'type': 'string', 'format': 'default'}],\n",
       "    'missingValues': ['']}},\n",
       "  {'path': 'water-purchases.csv',\n",
       "   'profile': 'tabular-data-resource',\n",
       "   'name': 'water-purchases',\n",
       "   'format': 'csv',\n",
       "   'mediatype': 'text/csv',\n",
       "   'encoding': 'utf-8',\n",
       "   'schema': {'fields': [{'name': 'pws_id',\n",
       "      'type': 'string',\n",
       "      'format': 'default'},\n",
       "     {'name': 'entry_id', 'type': 'integer', 'format': 'default'},\n",
       "     {'name': 'buyer_state_asgn_id_no', 'type': 'number', 'format': 'default'},\n",
       "     {'name': 'buyer_facility_type', 'type': 'string', 'format': 'default'},\n",
       "     {'name': 'seller_facility_type', 'type': 'string', 'format': 'default'},\n",
       "     {'name': 'seller_state_asgn_id_no',\n",
       "      'type': 'string',\n",
       "      'format': 'default'},\n",
       "     {'name': 'seller_water_system_no', 'type': 'string', 'format': 'default'},\n",
       "     {'name': 'water_system_name', 'type': 'string', 'format': 'default'}],\n",
       "    'missingValues': ['']}},\n",
       "  {'path': 'details.csv',\n",
       "   'profile': 'tabular-data-resource',\n",
       "   'name': 'details',\n",
       "   'format': 'csv',\n",
       "   'mediatype': 'text/csv',\n",
       "   'encoding': 'utf-8',\n",
       "   'schema': {'fields': [{'name': 'pws_id',\n",
       "      'type': 'string',\n",
       "      'format': 'default'},\n",
       "     {'name': 'activity_date', 'type': 'date', 'format': 'default'},\n",
       "     {'name': 'federal_type', 'type': 'string', 'format': 'default'},\n",
       "     {'name': 'primary_source', 'type': 'string', 'format': 'default'},\n",
       "     {'name': 'principal_county_served',\n",
       "      'type': 'string',\n",
       "      'format': 'default'},\n",
       "     {'name': 'state_type', 'type': 'string', 'format': 'default'},\n",
       "     {'name': 'status', 'type': 'string', 'format': 'default'},\n",
       "     {'name': 'water_system_name', 'type': 'string', 'format': 'default'},\n",
       "     {'name': 'water_system_no', 'type': 'string', 'format': 'default'}],\n",
       "    'missingValues': ['']}},\n",
       "  {'path': 'service-areas.csv',\n",
       "   'profile': 'tabular-data-resource',\n",
       "   'name': 'service-areas',\n",
       "   'format': 'csv',\n",
       "   'mediatype': 'text/csv',\n",
       "   'encoding': 'utf-8',\n",
       "   'schema': {'fields': [{'name': 'pws_id',\n",
       "      'type': 'string',\n",
       "      'format': 'default'},\n",
       "     {'name': 'entry_id', 'type': 'integer', 'format': 'default'},\n",
       "     {'name': 'code', 'type': 'string', 'format': 'default'},\n",
       "     {'name': 'name', 'type': 'string', 'format': 'default'}],\n",
       "    'missingValues': ['']}},\n",
       "  {'path': 'water-sources.csv',\n",
       "   'profile': 'tabular-data-resource',\n",
       "   'name': 'water-sources',\n",
       "   'format': 'csv',\n",
       "   'mediatype': 'text/csv',\n",
       "   'encoding': 'utf-8',\n",
       "   'schema': {'fields': [{'name': 'pws_id',\n",
       "      'type': 'string',\n",
       "      'format': 'default'},\n",
       "     {'name': 'entry_id', 'type': 'integer', 'format': 'default'},\n",
       "     {'name': 'name', 'type': 'string', 'format': 'default'},\n",
       "     {'name': 'status', 'type': 'string', 'format': 'default'},\n",
       "     {'name': 'type_code', 'type': 'string', 'format': 'default'}],\n",
       "    'missingValues': ['']}}]}"
      ]
     },
     "execution_count": 8,
     "metadata": {},
     "output_type": "execute_result"
    }
   ],
   "source": [
    "p.descriptor"
   ]
  },
  {
   "cell_type": "code",
   "execution_count": 9,
   "metadata": {},
   "outputs": [
    {
     "data": {
      "text/plain": [
       "True"
      ]
     },
     "execution_count": 9,
     "metadata": {},
     "output_type": "execute_result"
    }
   ],
   "source": [
    "p.save(PATH_DATAPACKAGE.with_suffix('.zip'))"
   ]
  }
 ],
 "metadata": {
  "kernelspec": {
   "display_name": "sdwis-scraping",
   "language": "python",
   "name": "sdwis-scraping"
  },
  "language_info": {
   "codemirror_mode": {
    "name": "ipython",
    "version": 3
   },
   "file_extension": ".py",
   "mimetype": "text/x-python",
   "name": "python",
   "nbconvert_exporter": "python",
   "pygments_lexer": "ipython3",
   "version": "3.7.2"
  }
 },
 "nbformat": 4,
 "nbformat_minor": 2
}
